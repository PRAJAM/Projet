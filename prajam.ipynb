{
 "cells": [
  {
   "cell_type": "code",
   "execution_count": 2,
   "metadata": {},
   "outputs": [],
   "source": [
    "import streamlit as st\n",
    "import numpy as np\n",
    "import plotly.graph_objects as go\n",
    "import pandas as pd"
   ]
  },
  {
   "cell_type": "code",
   "execution_count": 5,
   "metadata": {},
   "outputs": [
    {
     "name": "stdout",
     "output_type": "stream",
     "text": [
      "<bound method DataFrame.info of          N° ENREG Code CAF  ASS_FRQ_KHZ  ASS_LGBD_KHZ  TER_ANT_AZM_MAX  \\\n",
      "0       1028247.0        K     38577000       14000.0             90.0   \n",
      "1       1033878.0        K     19376875       13700.0            204.5   \n",
      "2       1428858.0        K     26145000       56000.0            320.7   \n",
      "3       1502495.0        K      6920000       40000.0            307.4   \n",
      "4        339609.0        K     38552500        7000.0            319.9   \n",
      "...           ...      ...          ...           ...              ...   \n",
      "823645  1419579.0        K     22128750       28000.0            195.1   \n",
      "823646   124559.0        J         3398           0.0              NaN   \n",
      "823647  1111112.0        K     23241750       14000.0            182.8   \n",
      "823648  1508178.0        K     26173000      112000.0            156.6   \n",
      "823649  1276551.0        K     38570000       56000.0            168.4   \n",
      "\n",
      "        TER_ANT_ANG  PT_LONG_DEG  PT_LONG_MIN  PT_LONG_SEC PT_LONG_ORIENT  \\\n",
      "0               1.7            2           20           59              E   \n",
      "1               1.9            1           14           59              E   \n",
      "2               2.6            7            3            5              E   \n",
      "3               3.0            6           36           33              E   \n",
      "4               1.7            5           28           44              E   \n",
      "...             ...          ...          ...          ...            ...   \n",
      "823645          1.6            1           25           10              E   \n",
      "823646          NaN            1           15           30              E   \n",
      "823647          2.8            4           44           24              E   \n",
      "823648          1.5            8           46            7              E   \n",
      "823649          1.7            2           28           17              E   \n",
      "\n",
      "        PT_LAT_DEG  PT_LAT_MIN  PT_LAT_SEC PT_LAT_ORIENT    Date CAF BASE  \\\n",
      "0               48          53          40             N  01/03/2013    H   \n",
      "1               43          16          11             N  18/09/2013    H   \n",
      "2               43          37           2             N  18/05/2017    H   \n",
      "3               47          38          35             N  11/04/2019    R   \n",
      "4               43          29          38             N  10/05/2005    H   \n",
      "...            ...         ...         ...           ...         ...  ...   \n",
      "823645          48          21          31             N  27/10/2022    R   \n",
      "823646          45          50           0             N  02/07/1979    R   \n",
      "823647          44          24          54             N  15/06/2011    H   \n",
      "823648          41          46           4             N  13/06/2019    H   \n",
      "823649          48          43          33             N  29/11/2018    R   \n",
      "\n",
      "       MVT_CODE  \n",
      "0           MOD  \n",
      "1           MOD  \n",
      "2           ADD  \n",
      "3           ADD  \n",
      "4           MOD  \n",
      "...         ...  \n",
      "823645      SUP  \n",
      "823646      ADD  \n",
      "823647      ADD  \n",
      "823648      ADD  \n",
      "823649      SUP  \n",
      "\n",
      "[823650 rows x 17 columns]>\n"
     ]
    }
   ],
   "source": [
    "df = pd.read_csv(\"Export_TER_juin2023_FIX_SafwanChendeb.csv\",sep=\";\")\n",
    "print(df.info)"
   ]
  },
  {
   "cell_type": "code",
   "execution_count": 12,
   "metadata": {},
   "outputs": [
    {
     "data": {
      "text/plain": [
       "N° ENREG             105\n",
       "Code CAF               0\n",
       "ASS_FRQ_KHZ            0\n",
       "ASS_LGBD_KHZ        1470\n",
       "TER_ANT_AZM_MAX    23791\n",
       "TER_ANT_ANG        23788\n",
       "PT_LONG_DEG            0\n",
       "PT_LONG_MIN            0\n",
       "PT_LONG_SEC            0\n",
       "PT_LONG_ORIENT         0\n",
       "PT_LAT_DEG             0\n",
       "PT_LAT_MIN             0\n",
       "PT_LAT_SEC             0\n",
       "PT_LAT_ORIENT          0\n",
       "BASE                   0\n",
       "MVT_CODE               0\n",
       "jour                   0\n",
       "mois                   0\n",
       "année                  0\n",
       "dtype: int64"
      ]
     },
     "execution_count": 12,
     "metadata": {},
     "output_type": "execute_result"
    }
   ],
   "source": [
    "df.isnull().sum()"
   ]
  },
  {
   "cell_type": "code",
   "execution_count": 9,
   "metadata": {},
   "outputs": [],
   "source": [
    "df[['jour', 'mois', 'année']] = df['Date CAF'].str.split('/', expand=True)"
   ]
  },
  {
   "cell_type": "code",
   "execution_count": 11,
   "metadata": {},
   "outputs": [],
   "source": [
    "df = df.drop(columns=['Date CAF'])"
   ]
  }
 ],
 "metadata": {
  "kernelspec": {
   "display_name": "base",
   "language": "python",
   "name": "python3"
  },
  "language_info": {
   "codemirror_mode": {
    "name": "ipython",
    "version": 3
   },
   "file_extension": ".py",
   "mimetype": "text/x-python",
   "name": "python",
   "nbconvert_exporter": "python",
   "pygments_lexer": "ipython3",
   "version": "3.11.7"
  }
 },
 "nbformat": 4,
 "nbformat_minor": 2
}
