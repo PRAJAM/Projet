{
 "cells": [
  {
   "cell_type": "code",
   "execution_count": 2,
   "metadata": {},
   "outputs": [],
   "source": [
    "import streamlit as st\n",
    "import numpy as np\n",
    "import plotly.graph_objects as go\n",
    "import pandas as pd"
   ]
  },
  {
   "cell_type": "code",
   "execution_count": 4,
   "metadata": {},
   "outputs": [
    {
     "name": "stdout",
     "output_type": "stream",
     "text": [
      "<bound method DataFrame.info of        N° ENREG;Code CAF;ASS_FRQ_KHZ;ASS_LGBD_KHZ;TER_ANT_AZM_MAX;TER_ANT_ANG;PT_LONG_DEG;PT_LONG_MIN;PT_LONG_SEC;PT_LONG_ORIENT;PT_LAT_DEG;PT_LAT_MIN;PT_LAT_SEC;PT_LAT_ORIENT;Date CAF;BASE;MVT_CODE\n",
      "0       1028247;K;38577000;14000;90.0;1.7;2;20;59;E;48...                                                                                                                                             \n",
      "1       1033878;K;19376875;13700;204.5;1.9;1;14;59;E;4...                                                                                                                                             \n",
      "2       1428858;K;26145000;56000;320.7;2.6;7;3;5;E;43;...                                                                                                                                             \n",
      "3       1502495;K;6920000;40000;307.4;3.0;6;36;33;E;47...                                                                                                                                             \n",
      "4       339609;K;38552500;7000;319.9;1.7;5;28;44;E;43;...                                                                                                                                             \n",
      "...                                                   ...                                                                                                                                             \n",
      "823645  1419579;K;22128750;28000;195.1;1.6;1;25;10;E;4...                                                                                                                                             \n",
      "823646  124559;J;3398;0;;;1;15;30;E;45;50;0;N;02/07/19...                                                                                                                                             \n",
      "823647  1111112;K;23241750;14000;182.8;2.8;4;44;24;E;4...                                                                                                                                             \n",
      "823648  1508178;K;26173000;112000;156.6;1.5;8;46;7;E;4...                                                                                                                                             \n",
      "823649  1276551;K;38570000;56000;168.4;1.7;2;28;17;E;4...                                                                                                                                             \n",
      "\n",
      "[823650 rows x 1 columns]>\n"
     ]
    }
   ],
   "source": [
    "df = pd.read_csv(\"Export_TER_juin2023_FIX_SafwanChendeb.csv\",sep=\";\")\n",
    "print(df.info)"
   ]
  }
 ],
 "metadata": {
  "kernelspec": {
   "display_name": "base",
   "language": "python",
   "name": "python3"
  },
  "language_info": {
   "codemirror_mode": {
    "name": "ipython",
    "version": 3
   },
   "file_extension": ".py",
   "mimetype": "text/x-python",
   "name": "python",
   "nbconvert_exporter": "python",
   "pygments_lexer": "ipython3",
   "version": "3.11.7"
  }
 },
 "nbformat": 4,
 "nbformat_minor": 2
}
