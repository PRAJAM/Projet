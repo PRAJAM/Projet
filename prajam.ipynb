{
 "cells": [
  {
   "cell_type": "code",
   "execution_count": 9,
   "metadata": {},
   "outputs": [],
   "source": [
    "import streamlit as st\n",
    "import numpy as np\n",
    "import plotly.graph_objects as go\n",
    "import pandas as pd\n",
    "import matplotlib.pyplot as plt\n",
    "import plotly.express as px"
   ]
  },
  {
   "cell_type": "code",
   "execution_count": 11,
   "metadata": {},
   "outputs": [],
   "source": [
    "df = pd.read_csv(\"Export_TER_juin2023_FIX_SafwanChendeb.csv\",sep=\";\")"
   ]
  },
  {
   "cell_type": "markdown",
   "metadata": {},
   "source": [
    "DATA CLEAN"
   ]
  },
  {
   "cell_type": "markdown",
   "metadata": {},
   "source": [
    "Enlever les valeurs nulles ou trop petites de Largeur de bande"
   ]
  },
  {
   "cell_type": "code",
   "execution_count": 18,
   "metadata": {},
   "outputs": [],
   "source": [
    "df2 = df.dropna(subset=['ASS_LGBD_KHZ'])\n",
    "df2 = df2[df2[\"ASS_LGBD_KHZ\"] >1000]\n"
   ]
  },
  {
   "cell_type": "markdown",
   "metadata": {},
   "source": [
    "Enlever les antennes qui ont été supprimées"
   ]
  },
  {
   "cell_type": "code",
   "execution_count": null,
   "metadata": {},
   "outputs": [],
   "source": [
    "enreg_to_supp = df2[df2['MVT_CODE'] == 'SUP']['N° ENREG']\n",
    "df2 = df2[~df2['N° ENREG'].isin(enreg_to_supp)]\n"
   ]
  },
  {
   "cell_type": "markdown",
   "metadata": {},
   "source": [
    "Garder seulement les ajouts d'antenne"
   ]
  },
  {
   "cell_type": "code",
   "execution_count": 13,
   "metadata": {},
   "outputs": [],
   "source": [
    "df2  = df2[df2['MVT_CODE'] == 'ADD']"
   ]
  },
  {
   "cell_type": "markdown",
   "metadata": {},
   "source": [
    "Enlever les MOD"
   ]
  },
  {
   "cell_type": "code",
   "execution_count": 19,
   "metadata": {},
   "outputs": [],
   "source": [
    "df2 = df2[df2['MVT_CODE'] != 'MOD' ]"
   ]
  },
  {
   "cell_type": "markdown",
   "metadata": {},
   "source": [
    "Garder seulement les dernières modifications de chaque antenne"
   ]
  },
  {
   "cell_type": "code",
   "execution_count": null,
   "metadata": {},
   "outputs": [],
   "source": [
    "df2['Date CAF'] = pd.to_datetime(df['Date CAF'], format='%d/%m/%Y')\n",
    "df2 = df2.sort_values('Date CAF').drop_duplicates(subset = \"N° ENREG\", keep = 'last')"
   ]
  },
  {
   "cell_type": "markdown",
   "metadata": {},
   "source": [
    "TEST"
   ]
  },
  {
   "cell_type": "code",
   "execution_count": 15,
   "metadata": {},
   "outputs": [
    {
     "data": {
      "text/html": [
       "<div>\n",
       "<style scoped>\n",
       "    .dataframe tbody tr th:only-of-type {\n",
       "        vertical-align: middle;\n",
       "    }\n",
       "\n",
       "    .dataframe tbody tr th {\n",
       "        vertical-align: top;\n",
       "    }\n",
       "\n",
       "    .dataframe thead th {\n",
       "        text-align: right;\n",
       "    }\n",
       "</style>\n",
       "<table border=\"1\" class=\"dataframe\">\n",
       "  <thead>\n",
       "    <tr style=\"text-align: right;\">\n",
       "      <th></th>\n",
       "      <th>N° ENREG</th>\n",
       "      <th>Code CAF</th>\n",
       "      <th>ASS_FRQ_KHZ</th>\n",
       "      <th>ASS_LGBD_KHZ</th>\n",
       "      <th>TER_ANT_AZM_MAX</th>\n",
       "      <th>TER_ANT_ANG</th>\n",
       "      <th>PT_LONG_DEG</th>\n",
       "      <th>PT_LONG_MIN</th>\n",
       "      <th>PT_LONG_SEC</th>\n",
       "      <th>PT_LONG_ORIENT</th>\n",
       "      <th>PT_LAT_DEG</th>\n",
       "      <th>PT_LAT_MIN</th>\n",
       "      <th>PT_LAT_SEC</th>\n",
       "      <th>PT_LAT_ORIENT</th>\n",
       "      <th>Date CAF</th>\n",
       "      <th>BASE</th>\n",
       "      <th>MVT_CODE</th>\n",
       "    </tr>\n",
       "  </thead>\n",
       "  <tbody>\n",
       "    <tr>\n",
       "      <th>2</th>\n",
       "      <td>1428858.0</td>\n",
       "      <td>K</td>\n",
       "      <td>26145000</td>\n",
       "      <td>56000.0</td>\n",
       "      <td>320.7</td>\n",
       "      <td>2.6</td>\n",
       "      <td>7</td>\n",
       "      <td>3</td>\n",
       "      <td>5</td>\n",
       "      <td>E</td>\n",
       "      <td>43</td>\n",
       "      <td>37</td>\n",
       "      <td>2</td>\n",
       "      <td>N</td>\n",
       "      <td>18/05/2017</td>\n",
       "      <td>H</td>\n",
       "      <td>ADD</td>\n",
       "    </tr>\n",
       "    <tr>\n",
       "      <th>3</th>\n",
       "      <td>1502495.0</td>\n",
       "      <td>K</td>\n",
       "      <td>6920000</td>\n",
       "      <td>40000.0</td>\n",
       "      <td>307.4</td>\n",
       "      <td>3.0</td>\n",
       "      <td>6</td>\n",
       "      <td>36</td>\n",
       "      <td>33</td>\n",
       "      <td>E</td>\n",
       "      <td>47</td>\n",
       "      <td>38</td>\n",
       "      <td>35</td>\n",
       "      <td>N</td>\n",
       "      <td>11/04/2019</td>\n",
       "      <td>R</td>\n",
       "      <td>ADD</td>\n",
       "    </tr>\n",
       "    <tr>\n",
       "      <th>5</th>\n",
       "      <td>1455698.0</td>\n",
       "      <td>K</td>\n",
       "      <td>6460000</td>\n",
       "      <td>40000.0</td>\n",
       "      <td>247.6</td>\n",
       "      <td>2.5</td>\n",
       "      <td>5</td>\n",
       "      <td>38</td>\n",
       "      <td>38</td>\n",
       "      <td>E</td>\n",
       "      <td>43</td>\n",
       "      <td>41</td>\n",
       "      <td>17</td>\n",
       "      <td>N</td>\n",
       "      <td>22/02/2018</td>\n",
       "      <td>H</td>\n",
       "      <td>ADD</td>\n",
       "    </tr>\n",
       "    <tr>\n",
       "      <th>10</th>\n",
       "      <td>1277365.0</td>\n",
       "      <td>K</td>\n",
       "      <td>13087000</td>\n",
       "      <td>28000.0</td>\n",
       "      <td>149.3</td>\n",
       "      <td>4.7</td>\n",
       "      <td>2</td>\n",
       "      <td>25</td>\n",
       "      <td>38</td>\n",
       "      <td>E</td>\n",
       "      <td>43</td>\n",
       "      <td>47</td>\n",
       "      <td>44</td>\n",
       "      <td>N</td>\n",
       "      <td>18/12/2014</td>\n",
       "      <td>H</td>\n",
       "      <td>ADD</td>\n",
       "    </tr>\n",
       "    <tr>\n",
       "      <th>17</th>\n",
       "      <td>1083711.0</td>\n",
       "      <td>K</td>\n",
       "      <td>6660000</td>\n",
       "      <td>40000.0</td>\n",
       "      <td>188.8</td>\n",
       "      <td>2.5</td>\n",
       "      <td>1</td>\n",
       "      <td>48</td>\n",
       "      <td>34</td>\n",
       "      <td>E</td>\n",
       "      <td>50</td>\n",
       "      <td>4</td>\n",
       "      <td>53</td>\n",
       "      <td>N</td>\n",
       "      <td>20/04/2010</td>\n",
       "      <td>H</td>\n",
       "      <td>ADD</td>\n",
       "    </tr>\n",
       "    <tr>\n",
       "      <th>22</th>\n",
       "      <td>1632137.0</td>\n",
       "      <td>K</td>\n",
       "      <td>19150000</td>\n",
       "      <td>110000.0</td>\n",
       "      <td>30.1</td>\n",
       "      <td>1.2</td>\n",
       "      <td>2</td>\n",
       "      <td>39</td>\n",
       "      <td>41</td>\n",
       "      <td>E</td>\n",
       "      <td>47</td>\n",
       "      <td>41</td>\n",
       "      <td>41</td>\n",
       "      <td>N</td>\n",
       "      <td>17/03/2022</td>\n",
       "      <td>R</td>\n",
       "      <td>ADD</td>\n",
       "    </tr>\n",
       "    <tr>\n",
       "      <th>29</th>\n",
       "      <td>1659722.0</td>\n",
       "      <td>K</td>\n",
       "      <td>81375000</td>\n",
       "      <td>500000.0</td>\n",
       "      <td>247.7</td>\n",
       "      <td>0.8</td>\n",
       "      <td>0</td>\n",
       "      <td>21</td>\n",
       "      <td>50</td>\n",
       "      <td>W</td>\n",
       "      <td>46</td>\n",
       "      <td>14</td>\n",
       "      <td>36</td>\n",
       "      <td>N</td>\n",
       "      <td>16/03/2023</td>\n",
       "      <td>R</td>\n",
       "      <td>ADD</td>\n",
       "    </tr>\n",
       "    <tr>\n",
       "      <th>32</th>\n",
       "      <td>1661516.0</td>\n",
       "      <td>K</td>\n",
       "      <td>19480000</td>\n",
       "      <td>110000.0</td>\n",
       "      <td>253.7</td>\n",
       "      <td>1.2</td>\n",
       "      <td>2</td>\n",
       "      <td>30</td>\n",
       "      <td>44</td>\n",
       "      <td>E</td>\n",
       "      <td>49</td>\n",
       "      <td>54</td>\n",
       "      <td>15</td>\n",
       "      <td>N</td>\n",
       "      <td>22/06/2023</td>\n",
       "      <td>R</td>\n",
       "      <td>ADD</td>\n",
       "    </tr>\n",
       "  </tbody>\n",
       "</table>\n",
       "</div>"
      ],
      "text/plain": [
       "     N° ENREG Code CAF  ASS_FRQ_KHZ  ASS_LGBD_KHZ  TER_ANT_AZM_MAX  \\\n",
       "2   1428858.0        K     26145000       56000.0            320.7   \n",
       "3   1502495.0        K      6920000       40000.0            307.4   \n",
       "5   1455698.0        K      6460000       40000.0            247.6   \n",
       "10  1277365.0        K     13087000       28000.0            149.3   \n",
       "17  1083711.0        K      6660000       40000.0            188.8   \n",
       "22  1632137.0        K     19150000      110000.0             30.1   \n",
       "29  1659722.0        K     81375000      500000.0            247.7   \n",
       "32  1661516.0        K     19480000      110000.0            253.7   \n",
       "\n",
       "    TER_ANT_ANG  PT_LONG_DEG  PT_LONG_MIN  PT_LONG_SEC PT_LONG_ORIENT  \\\n",
       "2           2.6            7            3            5              E   \n",
       "3           3.0            6           36           33              E   \n",
       "5           2.5            5           38           38              E   \n",
       "10          4.7            2           25           38              E   \n",
       "17          2.5            1           48           34              E   \n",
       "22          1.2            2           39           41              E   \n",
       "29          0.8            0           21           50              W   \n",
       "32          1.2            2           30           44              E   \n",
       "\n",
       "    PT_LAT_DEG  PT_LAT_MIN  PT_LAT_SEC PT_LAT_ORIENT    Date CAF BASE MVT_CODE  \n",
       "2           43          37           2             N  18/05/2017    H      ADD  \n",
       "3           47          38          35             N  11/04/2019    R      ADD  \n",
       "5           43          41          17             N  22/02/2018    H      ADD  \n",
       "10          43          47          44             N  18/12/2014    H      ADD  \n",
       "17          50           4          53             N  20/04/2010    H      ADD  \n",
       "22          47          41          41             N  17/03/2022    R      ADD  \n",
       "29          46          14          36             N  16/03/2023    R      ADD  \n",
       "32          49          54          15             N  22/06/2023    R      ADD  "
      ]
     },
     "execution_count": 15,
     "metadata": {},
     "output_type": "execute_result"
    }
   ],
   "source": [
    "df2.head(8)"
   ]
  },
  {
   "cell_type": "markdown",
   "metadata": {},
   "source": [
    "GRAPH DU NOMBRE D'AJOUTS D'ANTENNES PAR MOIS"
   ]
  },
  {
   "cell_type": "markdown",
   "metadata": {},
   "source": [
    "Création d'une nouvelle variable 'YearMonth' pour trier la création d'antenne par mois"
   ]
  },
  {
   "cell_type": "code",
   "execution_count": 16,
   "metadata": {},
   "outputs": [],
   "source": [
    "\n",
    "df2['Date CAF'] = pd.to_datetime(df2['Date CAF'], format='%d/%m/%Y')\n",
    "df2['YearMonth'] = df2['Date CAF'].dt.to_period('M')\n",
    "monthly_counts = df2['YearMonth'].value_counts().sort_index().reset_index()\n",
    "monthly_counts.columns = ['YearMonth', 'Number of Antennas']\n",
    "monthly_counts['YearMonth'] = monthly_counts['YearMonth'].astype(str)\n"
   ]
  },
  {
   "cell_type": "markdown",
   "metadata": {},
   "source": [
    "Plot du nombre d'ajout d'antennes par mois"
   ]
  },
  {
   "cell_type": "code",
   "execution_count": 17,
   "metadata": {},
   "outputs": [],
   "source": [
    "\n",
    "fig = px.line(\n",
    "    monthly_counts, \n",
    "    x='YearMonth', \n",
    "    y='Number of Antennas', \n",
    "    title='Évolution du nombre d\\'ajout d\\'antennes par mois',\n",
    "    markers=True,\n",
    "    labels={'YearMonth': 'Mois', 'Number of Antennas': 'Nombre d\\'antennes ajoutées'}\n",
    ")\n",
    "\n",
    "fig.update_layout(\n",
    "    xaxis_title='Mois',\n",
    "    yaxis_title='Nombre d\\'antennes ajoutées',\n",
    "    xaxis_tickangle=-45\n",
    ")\n",
    "\n",
    "fig.write_html('monthly_antenna_additions.html')"
   ]
  },
  {
   "cell_type": "markdown",
   "metadata": {},
   "source": [
    "GRAPH DU NOMBRE D'ANTENNES EN SERVICE PAR MOIS"
   ]
  },
  {
   "cell_type": "markdown",
   "metadata": {},
   "source": [
    "Création d'un nouveau DatFrame contenant le nombre d'ajout et de suppression d'antennes par mois"
   ]
  },
  {
   "cell_type": "code",
   "execution_count": 20,
   "metadata": {},
   "outputs": [],
   "source": [
    "df2['Date CAF'] = pd.to_datetime(df2['Date CAF'], format='%d/%m/%Y')\n",
    "df2 = df2.sort_values(by='Date CAF')\n",
    "df2['YearMonth'] = df2['Date CAF'].dt.to_period('M')\n",
    "adds_per_month = df2[df2['MVT_CODE'] == 'ADD'].groupby('YearMonth').size()\n",
    "sups_per_month = df2[df2['MVT_CODE'] == 'SUP'].groupby('YearMonth').size()"
   ]
  },
  {
   "cell_type": "markdown",
   "metadata": {},
   "source": [
    "Calcul du nombre d'antennes en service par mois"
   ]
  },
  {
   "cell_type": "code",
   "execution_count": 22,
   "metadata": {},
   "outputs": [],
   "source": [
    "service_df_corrected = pd.DataFrame({'Adds': adds_per_month, 'Sups': sups_per_month}).fillna(0)\n",
    "\n",
    "service_df_corrected['Cumulative Adds'] = service_df_corrected['Adds'].cumsum()\n",
    "service_df_corrected['Cumulative Sups'] = service_df_corrected['Sups'].cumsum()\n",
    "\n",
    "service_df_corrected['Antennas in Service'] = service_df_corrected['Cumulative Adds'] - service_df_corrected['Cumulative Sups']\n",
    "\n",
    "service_df_corrected = service_df_corrected.reset_index()\n",
    "service_df_corrected['YearMonth'] = service_df_corrected['YearMonth'].astype(str)"
   ]
  },
  {
   "cell_type": "markdown",
   "metadata": {},
   "source": [
    "Plot du nopbre d'antennes en service par mois"
   ]
  },
  {
   "cell_type": "code",
   "execution_count": 23,
   "metadata": {},
   "outputs": [],
   "source": [
    "fig_corrected = px.line(\n",
    "    service_df_corrected, \n",
    "    x='YearMonth', \n",
    "    y='Antennas in Service', \n",
    "    title='Nombre d\\'antennes en service par mois',\n",
    "    markers=True,\n",
    "    labels={'YearMonth': 'Mois', 'Antennas in Service': 'Nombre d\\'antennes en service'}\n",
    ")\n",
    "\n",
    "fig_corrected.update_layout(\n",
    "    xaxis_title='Mois',\n",
    "    yaxis_title='Nombre d\\'antennes en service',\n",
    "    xaxis_tickangle=-45\n",
    ")\n",
    "\n",
    "output_file_corrected = 'antennas_in_service.html'\n",
    "fig_corrected.write_html(output_file_corrected)"
   ]
  }
 ],
 "metadata": {
  "kernelspec": {
   "display_name": "base",
   "language": "python",
   "name": "python3"
  },
  "language_info": {
   "codemirror_mode": {
    "name": "ipython",
    "version": 3
   },
   "file_extension": ".py",
   "mimetype": "text/x-python",
   "name": "python",
   "nbconvert_exporter": "python",
   "pygments_lexer": "ipython3",
   "version": "3.12.4"
  }
 },
 "nbformat": 4,
 "nbformat_minor": 2
}
