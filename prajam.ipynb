{
 "cells": [
  {
   "cell_type": "markdown",
   "metadata": {},
   "source": [
    "# Tableau de Répartition des Bandes de Fréquence\n",
    "## Projet Mastercamp Data\n",
    "\n",
    "Pierre Bonnin\n",
    "\n",
    "Romain Caussignac\n",
    "\n",
    "Antoine Combaldieu\n",
    "\n",
    "Alice Guillou\n",
    "\n",
    "Mehdy Michalak\n",
    "\n",
    "Jules Sucrot"
   ]
  },
  {
   "cell_type": "markdown",
   "metadata": {},
   "source": [
    "# Importation et nettoyage de la Data"
   ]
  },
  {
   "cell_type": "code",
   "execution_count": 1,
   "metadata": {},
   "outputs": [],
   "source": [
    "import streamlit as st\n",
    "import numpy as np\n",
    "import plotly.graph_objects as go\n",
    "import pandas as pd\n",
    "import matplotlib.pyplot as plt\n",
    "import folium\n",
    "from folium.plugins import HeatMap, MarkerCluster\n",
    "import streamlit as st\n",
    "import plotly.express as px"
   ]
  },
  {
   "cell_type": "code",
   "execution_count": 2,
   "metadata": {},
   "outputs": [],
   "source": [
    "df = pd.read_csv(\"https://github.com/PRAJAM/Projet/raw/jules/Export_TER_juin2023_FIX_SafwanChendeb.csv\",sep=\";\")\n"
   ]
  },
  {
   "cell_type": "markdown",
   "metadata": {},
   "source": [
    "# DATA CLEAN"
   ]
  },
  {
   "cell_type": "markdown",
   "metadata": {},
   "source": [
    "Enlever les valeurs nulles ou trop petites de Largeur de bande"
   ]
  },
  {
   "cell_type": "code",
   "execution_count": 3,
   "metadata": {},
   "outputs": [],
   "source": [
    "df2 = df.dropna(subset=['ASS_LGBD_KHZ'])\n",
    "df2 = df2[df2[\"ASS_LGBD_KHZ\"] >1000]\n"
   ]
  },
  {
   "cell_type": "markdown",
   "metadata": {},
   "source": [
    "Enlever les antennes qui ont été supprimées"
   ]
  },
  {
   "cell_type": "code",
   "execution_count": null,
   "metadata": {},
   "outputs": [],
   "source": [
    "enreg_to_supp = df2[df2['MVT_CODE'] == 'SUP']['N° ENREG']\n",
    "df2 = df2[~df2['N° ENREG'].isin(enreg_to_supp)]\n"
   ]
  },
  {
   "cell_type": "markdown",
   "metadata": {},
   "source": [
    "Garder seulement les ajouts d'antenne"
   ]
  },
  {
   "cell_type": "code",
   "execution_count": null,
   "metadata": {},
   "outputs": [],
   "source": [
    "df2  = df2[df2['MVT_CODE'] == 'ADD']"
   ]
  },
  {
   "cell_type": "markdown",
   "metadata": {},
   "source": [
    "Enlever les MOD"
   ]
  },
  {
   "cell_type": "code",
   "execution_count": null,
   "metadata": {},
   "outputs": [],
   "source": [
    "df2 = df2[df2['MVT_CODE'] != 'MOD' ]"
   ]
  },
  {
   "cell_type": "markdown",
   "metadata": {},
   "source": [
    "Garder seulement les dernières modifications de chaque antenne"
   ]
  },
  {
   "cell_type": "code",
   "execution_count": null,
   "metadata": {},
   "outputs": [],
   "source": [
    "df2['Date CAF'] = pd.to_datetime(df['Date CAF'], format='%d/%m/%Y')\n",
    "df2 = df2.sort_values('Date CAF').drop_duplicates(subset = \"N° ENREG\", keep = 'last')"
   ]
  },
  {
   "cell_type": "markdown",
   "metadata": {},
   "source": [
    "Échantillonage des données (10%)"
   ]
  },
  {
   "cell_type": "code",
   "execution_count": 5,
   "metadata": {},
   "outputs": [],
   "source": [
    "sample_fraction = 0.1  \n",
    "df = df.sample(frac=sample_fraction, random_state=1)"
   ]
  },
  {
   "cell_type": "markdown",
   "metadata": {},
   "source": [
    "TEST"
   ]
  },
  {
   "cell_type": "code",
   "execution_count": null,
   "metadata": {},
   "outputs": [],
   "source": [
    "df2.head(10)"
   ]
  },
  {
   "cell_type": "markdown",
   "metadata": {},
   "source": [
    "# Visualisation des données"
   ]
  },
  {
   "cell_type": "markdown",
   "metadata": {},
   "source": [
    "## Graph du nombre d'antennes ajoutées par mois"
   ]
  },
  {
   "cell_type": "markdown",
   "metadata": {},
   "source": [
    "Création d'une nouvelle variable 'YearMonth' pour trier la création d'antenne par mois"
   ]
  },
  {
   "cell_type": "code",
   "execution_count": 6,
   "metadata": {},
   "outputs": [],
   "source": [
    "df2['Date CAF'] = pd.to_datetime(df2['Date CAF'], format='%d/%m/%Y')\n",
    "df2['YearMonth'] = df2['Date CAF'].dt.to_period('M')\n",
    "monthly_counts = df2['YearMonth'].value_counts().sort_index().reset_index()\n",
    "monthly_counts.columns = ['YearMonth', 'Number of Antennas']\n",
    "monthly_counts['YearMonth'] = monthly_counts['YearMonth'].astype(str)"
   ]
  },
  {
   "cell_type": "markdown",
   "metadata": {},
   "source": [
    "Plot du nombre d'ajout d'antennes par mois"
   ]
  },
  {
   "cell_type": "code",
   "execution_count": 7,
   "metadata": {},
   "outputs": [],
   "source": [
    "fig = px.line(\n",
    "    monthly_counts, \n",
    "    x='YearMonth', \n",
    "    y='Number of Antennas', \n",
    "    title='Évolution du nombre d\\'ajout d\\'antennes par mois',\n",
    "    markers=True,\n",
    "    labels={'YearMonth': 'Mois', 'Number of Antennas': 'Nombre d\\'antennes ajoutées'}\n",
    ")\n",
    "\n",
    "fig.update_layout(\n",
    "    xaxis_title='Mois',\n",
    "    yaxis_title='Nombre d\\'antennes ajoutées',\n",
    "    xaxis_tickangle=-45\n",
    ")\n",
    "\n",
    "fig.write_html('monthly_antenna_additions.html')"
   ]
  },
  {
   "cell_type": "markdown",
   "metadata": {},
   "source": [
    "## Graph du nombre d'antennes en service par mois"
   ]
  },
  {
   "cell_type": "markdown",
   "metadata": {},
   "source": [
    "Création d'un nouveau DatFrame contenant le nombre d'ajout et de suppression d'antennes par mois"
   ]
  },
  {
   "cell_type": "code",
   "execution_count": 8,
   "metadata": {},
   "outputs": [],
   "source": [
    "df2['Date CAF'] = pd.to_datetime(df2['Date CAF'], format='%d/%m/%Y')\n",
    "df2 = df2.sort_values(by='Date CAF')\n",
    "df2['YearMonth'] = df2['Date CAF'].dt.to_period('M')\n",
    "adds_per_month = df2[df2['MVT_CODE'] == 'ADD'].groupby('YearMonth').size()\n",
    "sups_per_month = df2[df2['MVT_CODE'] == 'SUP'].groupby('YearMonth').size()"
   ]
  },
  {
   "cell_type": "markdown",
   "metadata": {},
   "source": [
    "Calcul du nombre d'antennes en service par mois"
   ]
  },
  {
   "cell_type": "code",
   "execution_count": 9,
   "metadata": {},
   "outputs": [],
   "source": [
    "service_df_corrected = pd.DataFrame({'Adds': adds_per_month, 'Sups': sups_per_month}).fillna(0)\n",
    "\n",
    "service_df_corrected['Cumulative Adds'] = service_df_corrected['Adds'].cumsum()\n",
    "service_df_corrected['Cumulative Sups'] = service_df_corrected['Sups'].cumsum()\n",
    "\n",
    "service_df_corrected['Antennas in Service'] = service_df_corrected['Cumulative Adds'] - service_df_corrected['Cumulative Sups']\n",
    "\n",
    "service_df_corrected = service_df_corrected.reset_index()\n",
    "service_df_corrected['YearMonth'] = service_df_corrected['YearMonth'].astype(str)"
   ]
  },
  {
   "cell_type": "markdown",
   "metadata": {},
   "source": [
    "Plot du nombre d'antennes en service par mois"
   ]
  },
  {
   "cell_type": "code",
   "execution_count": 10,
   "metadata": {},
   "outputs": [],
   "source": [
    "fig_corrected = px.line(\n",
    "    service_df_corrected, \n",
    "    x='YearMonth', \n",
    "    y='Antennas in Service', \n",
    "    title='Nombre d\\'antennes en service par mois',\n",
    "    markers=True,\n",
    "    labels={'YearMonth': 'Mois', 'Antennas in Service': 'Nombre d\\'antennes en service'}\n",
    ")\n",
    "\n",
    "fig_corrected.update_layout(\n",
    "    xaxis_title='Mois',\n",
    "    yaxis_title='Nombre d\\'antennes en service',\n",
    "    xaxis_tickangle=-45\n",
    ")\n",
    "\n",
    "output_file_corrected = 'antennas_in_service.html'\n",
    "fig_corrected.write_html(output_file_corrected)"
   ]
  },
  {
   "cell_type": "markdown",
   "metadata": {},
   "source": [
    "## Préparation des données pour l'utilistaion des bandes de fréquences par utilisateur"
   ]
  },
  {
   "cell_type": "code",
   "execution_count": 5,
   "metadata": {},
   "outputs": [],
   "source": [
    "enreg_to_supp = df2[df2['MVT_CODE'] == 'SUP']['N° ENREG']\n",
    "df2 = df2[~df2['N° ENREG'].isin(enreg_to_supp)]\n",
    "df2['Date CAF'] = pd.to_datetime(df2['Date CAF'], format='%d/%m/%Y')\n",
    "df2 = df2.sort_values('Date CAF').drop_duplicates(subset='N° ENREG', keep='last')\n",
    "\n",
    "\n",
    "df2['ASS_FRQ_KHZ'] = df2['ASS_FRQ_KHZ'].astype(int)\n",
    "df2['ASS_LGBD_KHZ'] = df2['ASS_LGBD_KHZ'].astype(int)"
   ]
  },
  {
   "cell_type": "markdown",
   "metadata": {},
   "source": [
    "## Histogramme de l'utilisation des largeurs de bande par utilisateur"
   ]
  },
  {
   "cell_type": "code",
   "execution_count": 10,
   "metadata": {},
   "outputs": [],
   "source": [
    "import pandas as pd\n",
    "import plotly.graph_objects as go\n",
    "import plotly.io as pio\n",
    "\n",
    "pio.renderers.default = 'browser'\n",
    "\n",
    "df = pd.read_csv('https://github.com/PRAJAM/Projet/raw/jules/Export_TER_juin2023_FIX_SafwanChendeb.csv', sep=';')\n",
    "\n",
    "df2 = df.dropna(subset=['ASS_LGBD_KHZ'])\n",
    "df2 = df2[df2[\"ASS_LGBD_KHZ\"] > 1000]\n",
    "enreg_to_supp = df2[df2['MVT_CODE'] == 'SUP']['N° ENREG']\n",
    "df2 = df2[~df2['N° ENREG'].isin(enreg_to_supp)]\n",
    "df2['Date CAF'] = pd.to_datetime(df2['Date CAF'], format='%d/%m/%Y')\n",
    "df2 = df2.sort_values('Date CAF').drop_duplicates(subset='N° ENREG', keep='last')\n",
    "df2['ASS_FRQ_KHZ'] = df2['ASS_FRQ_KHZ'].astype(int)\n",
    "df2['ASS_LGBD_KHZ'] = df2['ASS_LGBD_KHZ'].astype(int)\n",
    "df2['Frequency_Band'] = df2['ASS_FRQ_KHZ'].astype(str) + '_' + df2['ASS_LGBD_KHZ'].astype(str)\n",
    "\n",
    "frequency_counts = df2['Frequency_Band'].value_counts().reset_index()\n",
    "frequency_counts.columns = ['Frequency_Band', 'Count']\n",
    "frequency_counts[['ASS_FRQ_KHZ', 'ASS_LGBD_KHZ']] = frequency_counts['Frequency_Band'].str.split('_', expand=True)\n",
    "frequency_counts['ASS_FRQ_KHZ'] = frequency_counts['ASS_FRQ_KHZ'].astype(int)\n",
    "frequency_counts['ASS_LGBD_KHZ'] = frequency_counts['ASS_LGBD_KHZ'].astype(int)\n",
    "frequency_counts['ASS_FRQ_MHZ'] = frequency_counts['ASS_FRQ_KHZ'] / 1000\n",
    "frequency_counts['ASS_LGBD_MHZ'] = frequency_counts['ASS_LGBD_KHZ'] / 1000\n",
    "\n",
    "fig = go.Figure()\n",
    "\n",
    "colors = ['#636EFA', '#EF553B', '#00CC96', '#AB63FA', '#FFA15A', '#19D3F3', '#FF6692', '#B6E880', '#FF97FF', '#FECB52']\n",
    "\n",
    "for i, (_, row) in enumerate(frequency_counts.iterrows()):\n",
    "    start_freq = row['ASS_FRQ_MHZ']\n",
    "    end_freq = start_freq + row['ASS_LGBD_MHZ']\n",
    "    hover_text = (\n",
    "        f\"Start Frequency: {start_freq} MHz<br>\"\n",
    "        f\"End Frequency: {end_freq} MHz<br>\"\n",
    "        f\"Bandwidth: {row['ASS_LGBD_MHZ']} MHz<br>\"\n",
    "        f\"Occurrences: {row['Count']}\"\n",
    "    )\n",
    "    color = colors[i % len(colors)]\n",
    "    fig.add_trace(go.Bar(\n",
    "        x=[start_freq],\n",
    "        y=[row['Count']],\n",
    "        width=[row['ASS_LGBD_MHZ']],\n",
    "        name=f\"{start_freq} MHz\",\n",
    "        hovertext=hover_text,\n",
    "        hoverinfo=\"text\",\n",
    "        marker_color=color\n",
    "    ))\n",
    "\n",
    "fig.update_layout(\n",
    "    title='Histogram of Frequency Bands Usage',\n",
    "    xaxis_title='Frequency (MHz)',\n",
    "    yaxis_title='Count',\n",
    "    bargap=0.2,\n",
    "    bargroupgap=0.1,\n",
    "    xaxis=dict(tickformat=','),\n",
    "    yaxis=dict(tickformat=','),\n",
    "    template='plotly_white'\n",
    ")\n",
    "\n",
    "fig.show()\n",
    "\n"
   ]
  },
  {
   "cell_type": "markdown",
   "metadata": {},
   "source": [
    "## Diagramme circulaire de la répartition des largeurs de bande par utilisateur"
   ]
  },
  {
   "cell_type": "code",
   "execution_count": 12,
   "metadata": {},
   "outputs": [],
   "source": [
    "import pandas as pd\n",
    "import plotly.express as px\n",
    "import plotly.io as pio\n",
    "\n",
    "pio.renderers.default = 'browser'\n",
    "\n",
    "df = pd.read_csv('https://github.com/PRAJAM/Projet/raw/jules/Export_TER_juin2023_FIX_SafwanChendeb.csv', sep=';')\n",
    "\n",
    "df2 = df.dropna(subset=['ASS_LGBD_KHZ'])\n",
    "df2 = df2[df2[\"ASS_LGBD_KHZ\"] > 1000]\n",
    "enreg_to_supp = df2[df2['MVT_CODE'] == 'SUP']['N° ENREG']\n",
    "df2 = df2[~df2['N° ENREG'].isin(enreg_to_supp)]\n",
    "df2['Date CAF'] = pd.to_datetime(df2['Date CAF'], format='%d/%m/%Y')\n",
    "df2 = df2.sort_values('Date CAF').drop_duplicates(subset='N° ENREG', keep='last')\n",
    "df2['ASS_FRQ_KHZ'] = df2['ASS_FRQ_KHZ'].astype(int)\n",
    "df2['ASS_LGBD_KHZ'] = df2['ASS_LGBD_KHZ'].astype(int)\n",
    "\n",
    "df2['ASS_FRQ_MHZ'] = df2['ASS_FRQ_KHZ'] / 1000\n",
    "df2['ASS_LGBD_MHZ'] = df2['ASS_LGBD_KHZ'] / 1000\n",
    "\n",
    "df2['END_FRQ_MHZ'] = df2['ASS_FRQ_MHZ'] + df2['ASS_LGBD_MHZ']\n",
    "\n",
    "df2['Year'] = df2['Date CAF'].dt.year\n",
    "grouped = df2.groupby(['Year', 'Code CAF', 'BASE']).agg(\n",
    "    {'ASS_FRQ_MHZ': 'count', 'ASS_LGBD_MHZ': 'sum'}\n",
    ").reset_index()\n",
    "\n",
    "grouped.columns = ['Year', 'Service', 'Affectataire', 'Num_Bands', 'Total_Bandwidth_MHz']\n",
    "\n",
    "fig_bar = px.bar(\n",
    "    grouped,\n",
    "    x='Year',\n",
    "    y='Total_Bandwidth_MHz',\n",
    "    color='Service',\n",
    "    barmode='stack',\n",
    "    hover_data=['Affectataire', 'Num_Bands'],\n",
    "    title='Largeur de Bande Totale par Année et par Service/Affectataire',\n",
    "    color_discrete_sequence=px.colors.qualitative.Plotly  \n",
    ")\n",
    "\n",
    "fig_bar.update_layout(\n",
    "    xaxis=dict(tickformat='d'),\n",
    "    yaxis=dict(tickformat=','),\n",
    "    template='plotly_white', \n",
    "    title_x=0.5, \n",
    "    legend=dict(\n",
    "        title='Service',\n",
    "        orientation='h',\n",
    "        yanchor='bottom',\n",
    "        y=1.02,\n",
    "        xanchor='right',\n",
    "        x=1\n",
    "    )\n",
    ")\n",
    "\n",
    "fig_bar.show()\n",
    "\n",
    "fig_pie = px.pie(\n",
    "    grouped,\n",
    "    values='Total_Bandwidth_MHz',\n",
    "    names='Service',\n",
    "    title='Répartition de la Largeur de Bande par Service',\n",
    "    color_discrete_sequence=px.colors.qualitative.Plotly \n",
    ")\n",
    "\n",
    "fig_pie.update_layout(\n",
    "    template='plotly_white',\n",
    "    title_x=0.5 \n",
    ")\n",
    "\n",
    "fig_pie.show()\n",
    "\n"
   ]
  },
  {
   "cell_type": "markdown",
   "metadata": {},
   "source": [
    "## Machine learning"
   ]
  },
  {
   "cell_type": "code",
   "execution_count": null,
   "metadata": {},
   "outputs": [],
   "source": [
    "from sklearn.preprocessing import LabelEncoder, StandardScaler\n",
    "from sklearn.cluster import MiniBatchKMeans\n",
    "\n",
    "numerical_cols = ['ASS_FRQ_KHZ', 'ASS_LGBD_KHZ',\n",
    "                  'latitude', 'longitude']\n",
    "categorical_cols = ['Code CAF']  \n",
    "\n",
    "\n",
    "label_encoder = LabelEncoder()\n",
    "\n",
    "df_encoded = df2.copy()\n",
    "\n",
    "for col in categorical_cols:\n",
    "    df_encoded[col] = label_encoder.fit_transform(df_encoded[col])\n",
    "\n",
    "scaler = StandardScaler()\n",
    "\n",
    "df_standardized = df_encoded.copy()\n",
    "\n",
    "df_standardized[numerical_cols] = scaler.fit_transform(df_standardized[numerical_cols])\n",
    "df_standardized[categorical_cols] = scaler.fit_transform(df_standardized[categorical_cols])\n",
    "df_standardized['Date CAF'] = scaler.fit_transform(df_standardized[['Date CAF']])\n",
    "df_standardized['Code CAF'] /= 3\n",
    "df_standardized['Date CAF'] /= 2\n",
    "df_standardized['Date CAF'] +=1.5"
   ]
  },
  {
   "cell_type": "code",
   "execution_count": null,
   "metadata": {},
   "outputs": [],
   "source": [
    "\n",
    "df_standardized.boxplot(figsize=(12, 8))"
   ]
  },
  {
   "cell_type": "markdown",
   "metadata": {},
   "source": [
    "Matrice de corrélation"
   ]
  },
  {
   "cell_type": "code",
   "execution_count": null,
   "metadata": {},
   "outputs": [],
   "source": [
    "\n",
    "import matplotlib.pyplot as plt\n",
    "import seaborn as sns\n",
    "\n",
    "correlation_matrix = df_standardized.corr()\n",
    "plt.figure(figsize=(10, 8))\n",
    "sns.heatmap(correlation_matrix, annot=True, cmap='coolwarm', fmt=\".2f\", linewidths=0.5)"
   ]
  },
  {
   "cell_type": "markdown",
   "metadata": {},
   "source": [
    "KMeans"
   ]
  },
  {
   "cell_type": "code",
   "execution_count": null,
   "metadata": {},
   "outputs": [],
   "source": [
    "from sklearn.cluster import MiniBatchKMeans\n",
    "\n",
    "wcss = []\n",
    "for i in range(1, 11):\n",
    "    kmeans = MiniBatchKMeans(n_clusters=i, random_state=42)\n",
    "    kmeans.fit(df_standardized)\n",
    "    wcss.append(kmeans.inertia_)\n",
    "\n",
    "plt.figure(figsize=(10, 6))\n",
    "plt.plot(range(1, 11), wcss, marker='o', linestyle='--')\n",
    "plt.xlabel('Nombre de Clusters')\n",
    "plt.ylabel('WCSS (Inertia)')\n",
    "plt.title('Méthode du Coude pour K-Means')\n",
    "plt.show()\n"
   ]
  },
  {
   "cell_type": "code",
   "execution_count": null,
   "metadata": {},
   "outputs": [],
   "source": [
    "df_standardized.head()\n",
    "from sklearn.cluster import KMeans\n",
    "\n",
    "kmeans = KMeans(n_clusters=5, random_state=42)\n",
    "kmeans.fit(df_standardized)"
   ]
  },
  {
   "cell_type": "code",
   "execution_count": null,
   "metadata": {},
   "outputs": [],
   "source": [
    "df_standardized['cluster'] = kmeans.labels_\n",
    "df_standardized.boxplot(by='cluster', figsize=(12, 8))\n"
   ]
  },
  {
   "cell_type": "code",
   "execution_count": null,
   "metadata": {},
   "outputs": [],
   "source": [
    "import plotly.express as px\n",
    "fig = px.scatter(df2, x='Date CAF', y='ASS_FRQ_KHZ', color=\"Code CAF\")\n",
    "\n",
    "fig.show()"
   ]
  },
  {
   "cell_type": "code",
   "execution_count": null,
   "metadata": {},
   "outputs": [],
   "source": [
    "\n",
    "import plotly.express as px\n",
    "fig = px.scatter(df2, x='Date CAF', y='ASS_FRQ_KHZ', color=kmeans.labels_)\n",
    "\n",
    "\n",
    "fig.show()"
   ]
  },
  {
   "cell_type": "markdown",
   "metadata": {},
   "source": [
    "KNN"
   ]
  },
  {
   "cell_type": "code",
   "execution_count": null,
   "metadata": {},
   "outputs": [],
   "source": [
    "from sklearn.neighbors import KNeighborsClassifier\n",
    "\n",
    "X = df_standardized[['ASS_FRQ_KHZ', 'ASS_LGBD_KHZ', 'longitude', 'latitude', 'Date CAF']]\n",
    "y = df2['Code CAF']\n",
    "\n",
    "from sklearn.model_selection import train_test_split\n",
    "\n",
    "X_train, X_test, y_train, y_test = train_test_split(X, y, test_size=0.2, random_state=42)\n",
    "\n",
    "knn = KNeighborsClassifier(n_neighbors=3)\n",
    "knn.fit(X_train, y_train)\n",
    "\n",
    "from sklearn.metrics import accuracy_score\n",
    "\n",
    "y_pred = knn.predict(X_test)\n",
    "accuracy = accuracy_score(y_test, y_pred)\n",
    "print('Accuracy:', accuracy)\n",
    "\n",
    "from sklearn.metrics import f1_score\n",
    "\n",
    "f1 = f1_score(y_test, y_pred, average='weighted')\n",
    "print('F1 Score:', f1)\n",
    "\n",
    "from sklearn.metrics import confusion_matrix\n",
    "\n",
    "confusion = confusion_matrix(y_test, y_pred)\n",
    "print('Confusion Matrix:\\n', confusion)\n",
    "\n"
   ]
  },
  {
   "cell_type": "markdown",
   "metadata": {},
   "source": [
    "Random Forest"
   ]
  },
  {
   "cell_type": "code",
   "execution_count": null,
   "metadata": {},
   "outputs": [],
   "source": [
    "\n",
    "\n",
    "from sklearn.ensemble import RandomForestRegressor\n",
    "\n",
    "X = df_standardized[['ASS_LGBD_KHZ', 'longitude', 'latitude', 'Date CAF']]\n",
    "y = df2['ASS_FRQ_KHZ']\n",
    "\n",
    "X_train, X_test, y_train, y_test = train_test_split(X, y, test_size=0.2, random_state=42)\n",
    "\n",
    "rf = RandomForestRegressor(n_estimators=100, random_state=42)\n",
    "rf.fit(X_train, y_train)\n",
    "\n",
    "y_pred = rf.predict(X_test)\n",
    "\n",
    "from sklearn.metrics import mean_squared_error\n",
    "mse = mean_squared_error(y_test, y_pred)\n",
    "print('Mean Squared Error:', mse)\n",
    "\n",
    "importances = rf.feature_importances_\n",
    "std = np.std([tree.feature_importances_ for tree in rf.estimators_],\n",
    "             axis=0)\n",
    "indices = np.argsort(importances)[::-1]\n",
    "\n",
    "print(\"Feature ranking:\")\n",
    "\n",
    "for f in range(X.shape[1]):\n",
    "    print(\"%d. feature %d (%f)\" % (f + 1, indices[f], importances[indices[f]]))\n",
    "\n",
    "from matplotlib import pyplot as plt\n",
    "plt.figure()\n",
    "plt.title(\"Feature importances\")\n",
    "plt.bar(range(X.shape[1]), importances[indices],\n",
    "        color=\"r\", yerr=std[indices], align=\"center\")\n",
    "plt.xticks(range(X.shape[1]), indices)\n",
    "plt.xlim([-1, X.shape[1]])\n",
    "plt.show()\n",
    "\n",
    "import matplotlib.pyplot as plt\n",
    "plt.scatter(y_test, y_pred)\n",
    "plt.xlabel('True Values')\n",
    "plt.ylabel('Predictions')\n",
    "plt.show()\n"
   ]
  }
 ],
 "metadata": {
  "kernelspec": {
   "display_name": "base",
   "language": "python",
   "name": "python3"
  },
  "language_info": {
   "codemirror_mode": {
    "name": "ipython",
    "version": 3
   },
   "file_extension": ".py",
   "mimetype": "text/x-python",
   "name": "python",
   "nbconvert_exporter": "python",
   "pygments_lexer": "ipython3",
   "version": "3.12.4"
  }
 },
 "nbformat": 4,
 "nbformat_minor": 2
}
